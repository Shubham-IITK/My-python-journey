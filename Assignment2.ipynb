{
  "nbformat": 4,
  "nbformat_minor": 0,
  "metadata": {
    "colab": {
      "provenance": []
    },
    "kernelspec": {
      "name": "python3",
      "display_name": "Python 3"
    },
    "language_info": {
      "name": "python"
    }
  },
  "cells": [
    {
      "cell_type": "markdown",
      "source": [
        "**ASSIGNMENT 2**"
      ],
      "metadata": {
        "id": "p9scj-BXFqje"
      }
    },
    {
      "cell_type": "markdown",
      "source": [
        "Module 3: Control Structures in Python"
      ],
      "metadata": {
        "id": "kHv7r8sAFpWx"
      }
    },
    {
      "cell_type": "markdown",
      "source": [
        "**Task 1: Check if a Number is Even or Odd**"
      ],
      "metadata": {
        "id": "SzP95YbAGAre"
      }
    },
    {
      "cell_type": "markdown",
      "source": [
        "Problem Statement:  Write a Python program that:\n",
        "*   Takes an integer input from the user.\n",
        "*   Checks whether the number is even or odd using an if-else statement.\n",
        "*   Displays the result accordingly.\n"
      ],
      "metadata": {
        "id": "oSSU5W8yIh4H"
      }
    },
    {
      "cell_type": "code",
      "execution_count": null,
      "metadata": {
        "colab": {
          "base_uri": "https://localhost:8080/"
        },
        "id": "eRQvw7y2FcF4",
        "outputId": "a3f83074-72da-47a7-a17c-fa39c747e12b"
      },
      "outputs": [
        {
          "output_type": "stream",
          "name": "stdout",
          "text": [
            "Enter an integer number: 5\n",
            "Entered number is Odd\n"
          ]
        }
      ],
      "source": [
        "A = int(input(\"Enter an integer number: \"));\n",
        "\n",
        "remainder = A%2; # This will provide remainder\n",
        "\n",
        "if (remainder == 0):\n",
        "  print(\"Entered number is Even\")\n",
        "else:\n",
        "  print(\"Entered number is Odd\")"
      ]
    },
    {
      "cell_type": "markdown",
      "source": [
        "**Task 2: Sum of Integers from 1 to 50 Using a Loop**"
      ],
      "metadata": {
        "id": "LBCj_0fnIVAl"
      }
    },
    {
      "cell_type": "markdown",
      "source": [
        "Problem Statement: Write a Python program that:\n",
        "*   Uses a for loop to iterate over numbers from 1 to 50.\n",
        "*   Calculates the sum of all integers in this range.\n",
        "*   Displays the final sum."
      ],
      "metadata": {
        "id": "h6g4HYTZIj8v"
      }
    },
    {
      "cell_type": "code",
      "source": [
        "n = 0;\n",
        "for i in range(1, 51):\n",
        "  n += i  # Add the current number 'i' to the total\n",
        "# Print the final sum\n",
        "print(f\"Sum of all integer from 1 to 50 is: {n}\")\n"
      ],
      "metadata": {
        "colab": {
          "base_uri": "https://localhost:8080/"
        },
        "id": "0sC7UT23I826",
        "outputId": "1ab516f8-ec21-40ef-d971-c4d74ee0c4fc"
      },
      "execution_count": 33,
      "outputs": [
        {
          "output_type": "stream",
          "name": "stdout",
          "text": [
            "Sum of all integer from 1 to 50 is: 1275\n"
          ]
        }
      ]
    }
  ]
}