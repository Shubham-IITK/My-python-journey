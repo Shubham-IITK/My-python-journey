{
  "nbformat": 4,
  "nbformat_minor": 0,
  "metadata": {
    "colab": {
      "provenance": []
    },
    "kernelspec": {
      "name": "python3",
      "display_name": "Python 3"
    },
    "language_info": {
      "name": "python"
    }
  },
  "cells": [
    {
      "cell_type": "markdown",
      "source": [
        "**Task 1: Perform Basic Mathematical Operations**"
      ],
      "metadata": {
        "id": "YRUQ6gaou4nw"
      }
    },
    {
      "cell_type": "markdown",
      "source": [
        "Problem Statement: Write a Python program that does the following:\n",
        "1.  Takes two numbers as input from the user.\n",
        "2.  Performs the basic mathematical operations on these two numbers:\n",
        "  *   Addition\n",
        "  *   Subtraction\n",
        "  *   Multiplication\n",
        "  *   Division\n",
        "3.  Displays the results of each operation on the screen."
      ],
      "metadata": {
        "id": "24hiTCK2vBX2"
      }
    },
    {
      "cell_type": "code",
      "execution_count": 1,
      "metadata": {
        "colab": {
          "base_uri": "https://localhost:8080/"
        },
        "id": "wwAJceT5uwUN",
        "outputId": "f73d5c7d-1e4c-46bb-a355-ac77d07bba91"
      },
      "outputs": [
        {
          "name": "stdout",
          "output_type": "stream",
          "text": [
            "Enter first number: 5\n",
            "Enter second number: 3\n"
          ]
        }
      ],
      "source": [
        "a = int(input(\"Enter first number: \"));\n",
        "b = int(input(\"Enter second number: \"));\n",
        "Add = a + b;\n",
        "Sub = a - b;\n",
        "Mult = a * b;\n",
        "Div = a / b;"
      ]
    },
    {
      "cell_type": "code",
      "source": [
        "print(f\"Addition of {a} and {b} is: {Add}\")\n",
        "print(f\"Subtraction of {a} and {b} is: {Sub}\")\n",
        "print(f\"Multiplication of {a} and {b} is: {Mult}\")\n",
        "print(f\"Division of {a} and {b} is: {Div}\")"
      ],
      "metadata": {
        "colab": {
          "base_uri": "https://localhost:8080/"
        },
        "id": "XH_LR9R_wMA9",
        "outputId": "ea9a600f-5a60-4859-b8b6-c0ccbba8399c"
      },
      "execution_count": 6,
      "outputs": [
        {
          "output_type": "stream",
          "name": "stdout",
          "text": [
            "Addition of 5 and 3 is: 8\n",
            "Subtraction of 5 and 3 is: 2\n",
            "Multiplication of 5 and 3 is: 15\n",
            "Division of 5 and 3 is: 1.6666666666666667\n"
          ]
        }
      ]
    },
    {
      "cell_type": "markdown",
      "source": [
        "**Task 2: Create a Personalized Greeting**\n",
        "\n",
        "Problem Statement: Write a Python program that:\n",
        "1.  Takes a user's first name and last name as input.\n",
        "2.  Concatenates the first name and last name into a full name.\n",
        "3.  Prints a personalized greeting message using the full name.\n"
      ],
      "metadata": {
        "id": "Hzpq8Q8TxT3M"
      }
    },
    {
      "cell_type": "code",
      "source": [
        "first_name = input(\"Enter first name: \")\n",
        "last_name = input(\"Enter last name: \")\n",
        "\n",
        "message = f\"\"\"👋 Hello, {first_name} {last_name}\n",
        "Welcome to My-python-journey 🚀\n",
        "\n",
        "This repository documents My Python learning journey through structured assignments, exercises, and small projects.\n",
        "It reflects my progress from fundamentals to more advanced concepts, with clean, reproducible solutions.\n",
        "\n",
        "📌 Goal: Build a strong foundation in Python for research, development, and real-world applications.\n",
        "\n",
        "Thanks!\n",
        "My-python-journey creator\n",
        "\"\"\"\n",
        "\n",
        "print(message)\n"
      ],
      "metadata": {
        "colab": {
          "base_uri": "https://localhost:8080/"
        },
        "id": "YcxCf_eTxgOE",
        "outputId": "82350e22-2188-47c4-d390-cc80d291235a"
      },
      "execution_count": 9,
      "outputs": [
        {
          "output_type": "stream",
          "name": "stdout",
          "text": [
            "Enter first name: John\n",
            "Enter last name: Smith\n",
            "👋 Hello, John Smith  \n",
            "Welcome to My-python-journey 🚀  \n",
            "\n",
            "This repository documents My Python learning journey through structured assignments, exercises, and small projects.  \n",
            "It reflects my progress from fundamentals to more advanced concepts, with clean, reproducible solutions.  \n",
            "\n",
            "📌 Goal: Build a strong foundation in Python for research, development, and real-world applications.\n",
            "\n",
            "Thanks!\n",
            "My-python-journey creator\n",
            "\n"
          ]
        }
      ]
    }
  ]
}