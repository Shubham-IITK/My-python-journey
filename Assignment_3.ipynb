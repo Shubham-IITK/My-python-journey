{
  "nbformat": 4,
  "nbformat_minor": 0,
  "metadata": {
    "colab": {
      "provenance": []
    },
    "kernelspec": {
      "name": "python3",
      "display_name": "Python 3"
    },
    "language_info": {
      "name": "python"
    }
  },
  "cells": [
    {
      "cell_type": "markdown",
      "source": [
        "**Module 4: Functions & Modules in Python**"
      ],
      "metadata": {
        "id": "vL6yfXxilhAC"
      }
    },
    {
      "cell_type": "markdown",
      "source": [
        "Task 1: Calculate Factorial Using a Function"
      ],
      "metadata": {
        "id": "ne1VbnxglnAz"
      }
    },
    {
      "cell_type": "markdown",
      "source": [
        "Problem Statement: Write a Python program that:\n",
        "*   Defines a function named factorial that takes a number as an argument and calculates its factorial using a loop or recursion.\n",
        "*   Returns the calculated factorial.\n",
        "*   Calls the function with a sample number and prints the output.\n"
      ],
      "metadata": {
        "id": "8DHh8Ni9lx-y"
      }
    },
    {
      "cell_type": "code",
      "source": [
        "n = int(input(\"Enter an integer number: \"))\n",
        "\n",
        "def factorial(n):\n",
        "    if n == 0 or n == 1:  # base case\n",
        "        return 1\n",
        "    else:\n",
        "        return n * factorial(n - 1)  # recursion\n",
        "\n",
        "f = factorial(n)\n",
        "print(f\"Factorial of {n} is: {f}\")\n"
      ],
      "metadata": {
        "colab": {
          "base_uri": "https://localhost:8080/"
        },
        "id": "JRZ1fw3vmDRf",
        "outputId": "03993b68-541a-44bc-8772-7c83ab5ef256"
      },
      "execution_count": 12,
      "outputs": [
        {
          "output_type": "stream",
          "name": "stdout",
          "text": [
            "Enter an integer number: 5\n",
            "Factorial of 5 is:120\n"
          ]
        }
      ]
    },
    {
      "cell_type": "markdown",
      "source": [
        "**Task 2: Using the Math Module for Calculations**"
      ],
      "metadata": {
        "id": "CTSZfnn9o18w"
      }
    },
    {
      "cell_type": "markdown",
      "source": [
        "Problem Statement: Write a Python program that:\n",
        "*   Asks the user for a number as input.\n",
        "*   Uses the math module to calculate the:\n",
        "  *   Square root of the number\n",
        "  *   Natural logarithm (log base e) of the number\n",
        "  *   Sine of the number (in radians)\n",
        "*   Displays the calculated results.\n"
      ],
      "metadata": {
        "id": "PlFDy6sfo3zq"
      }
    },
    {
      "cell_type": "code",
      "source": [
        "import math\n",
        "print(dir(math))"
      ],
      "metadata": {
        "colab": {
          "base_uri": "https://localhost:8080/"
        },
        "id": "tcAMQktJrFjk",
        "outputId": "ed27f8c6-2dbc-4813-e9d2-7695b6bd4512"
      },
      "execution_count": 15,
      "outputs": [
        {
          "output_type": "stream",
          "name": "stdout",
          "text": [
            "['__doc__', '__loader__', '__name__', '__package__', '__spec__', 'acos', 'acosh', 'asin', 'asinh', 'atan', 'atan2', 'atanh', 'cbrt', 'ceil', 'comb', 'copysign', 'cos', 'cosh', 'degrees', 'dist', 'e', 'erf', 'erfc', 'exp', 'exp2', 'expm1', 'fabs', 'factorial', 'floor', 'fmod', 'frexp', 'fsum', 'gamma', 'gcd', 'hypot', 'inf', 'isclose', 'isfinite', 'isinf', 'isnan', 'isqrt', 'lcm', 'ldexp', 'lgamma', 'log', 'log10', 'log1p', 'log2', 'modf', 'nan', 'nextafter', 'perm', 'pi', 'pow', 'prod', 'radians', 'remainder', 'sin', 'sinh', 'sqrt', 'sumprod', 'tan', 'tanh', 'tau', 'trunc', 'ulp']\n"
          ]
        }
      ]
    },
    {
      "cell_type": "code",
      "source": [
        "import math\n",
        "from math import *\n",
        "x = int(input(\"Enter an integer number: \"));\n",
        "def prog(x):\n",
        "  s = sqrt(x)\n",
        "  l = log(x)\n",
        "  t = sin(x)\n",
        "  return s, l, t\n",
        "s,l,t = prog(x)\n",
        "print(f\"Square root of {x} is: {s}\")\n",
        "print(f\"Natural log of {x} is: {l}\")\n",
        "print(f\"Sine of {x} in radians is: {t}\")\n"
      ],
      "metadata": {
        "colab": {
          "base_uri": "https://localhost:8080/"
        },
        "id": "DeVCmavzpLQ4",
        "outputId": "aaa9d0ac-2bc4-4257-a6d8-feb01d23d848"
      },
      "execution_count": 17,
      "outputs": [
        {
          "output_type": "stream",
          "name": "stdout",
          "text": [
            "Enter an integer number: 49\n",
            "Square root of 49 is: 7.0\n",
            "Natural log of 49 is: 3.8918202981106265\n",
            "Sine of 49 in radians is: -0.9537526527594719\n"
          ]
        }
      ]
    },
    {
      "cell_type": "code",
      "execution_count": null,
      "metadata": {
        "id": "3eskwNr-lbBi"
      },
      "outputs": [],
      "source": []
    }
  ]
}